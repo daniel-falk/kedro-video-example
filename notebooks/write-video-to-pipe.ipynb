{
 "cells": [
  {
   "cell_type": "code",
   "execution_count": null,
   "id": "294d06d3",
   "metadata": {},
   "outputs": [],
   "source": [
    "import os\n",
    "\n",
    "fifo_path = \"/tmp/myfifo.avi\"\n",
    "os.mkfifo(fifo_path)"
   ]
  },
  {
   "cell_type": "code",
   "execution_count": null,
   "id": "9a321c21",
   "metadata": {},
   "outputs": [],
   "source": [
    "from threading import Thread\n",
    "import sys\n",
    "import contextlib\n",
    "\n",
    "# Create a function that will print under this cell\n",
    "# even if the main thread is executing in another thread...\n",
    "# There is not lock, so some misstakes will happen...\n",
    "this_cell = sys.stdout.parent_header\n",
    "def cell_print(*args, **kwargs):\n",
    "    current_cell = sys.stdout.parent_header\n",
    "    try:\n",
    "        sys.stdout.parent_header = this_cell\n",
    "        print(*args, **kwargs)\n",
    "        sys.stdout.flush()\n",
    "    finally:\n",
    "        sys.stdout.parent_header = current_cell\n",
    "\n",
    "# Create a consumer that will read data from the pipe until\n",
    "# the writer closes the pipe\n",
    "def consumer(path):\n",
    "        cell_print(\"Wait for producer...\")\n",
    "        with open(path, \"rb\") as fio:  # Open the pipe\n",
    "            cell_print(\"Wait for data...\")\n",
    "            while True:\n",
    "                data = fio.read(int(1e6))  # Read from the pipe\n",
    "                cell_print(\"Read %d bytes..\" % len(data))\n",
    "                if len(data) == 0:\n",
    "                    cell_print(\"OK, done.\")\n",
    "                    return\n",
    "            \n",
    "th = Thread(target=consumer, args=(fifo_path,))\n",
    "th.start()"
   ]
  },
  {
   "cell_type": "code",
   "execution_count": null,
   "id": "42367178",
   "metadata": {},
   "outputs": [],
   "source": [
    "import cv2\n",
    "import numpy as np\n",
    "import itertools\n",
    "import time\n",
    "import ipywidgets as widgets\n",
    "\n",
    "out = widgets.Output(layout={'border': '1px solid black'})\n",
    "display(out)\n",
    "\n",
    "video = catalog.load(\"virat_tiny\")\n",
    "\n",
    "writer = cv2.VideoWriter(\n",
    "        fifo_path, cv2.VideoWriter_fourcc(*video.fourcc), video.fps, video.size\n",
    ")\n",
    "\n",
    "with out:\n",
    "    for i, frame in enumerate(itertools.cycle(video)):\n",
    "        out.clear_output()\n",
    "        print(\"Write frame %d\" % i)\n",
    "        sys.stdout.flush()\n",
    "        writer.write(np.asarray(frame))\n",
    "        if i > 1e4:\n",
    "            break\n",
    "        time.sleep(.01)\n",
    "\n",
    "    print(\"OK, done.\")\n",
    "    sys.stdout.flush()\n",
    "writer.release()"
   ]
  },
  {
   "cell_type": "code",
   "execution_count": null,
   "id": "c3187a9d",
   "metadata": {},
   "outputs": [],
   "source": [
    "os.remove(fifo_path)"
   ]
  }
 ],
 "metadata": {
  "kernelspec": {
   "display_name": "video_example",
   "language": "python",
   "name": "python3"
  },
  "language_info": {
   "codemirror_mode": {
    "name": "ipython",
    "version": 3
   },
   "file_extension": ".py",
   "mimetype": "text/x-python",
   "name": "python",
   "nbconvert_exporter": "python",
   "pygments_lexer": "ipython3",
   "version": "3.10.1"
  }
 },
 "nbformat": 4,
 "nbformat_minor": 5
}
